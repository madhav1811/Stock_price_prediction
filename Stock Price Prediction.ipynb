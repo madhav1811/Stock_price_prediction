{
 "cells": [
  {
   "cell_type": "code",
   "execution_count": 1,
   "id": "a1be5bf7",
   "metadata": {},
   "outputs": [],
   "source": [
    "import numpy as np \n",
    "import pandas as pd \n",
    "import os \n",
    "import matplotlib.pyplot as plt \n",
    "import warnings\n",
    "warnings.filterwarnings('ignore')\n",
    "from matplotlib.pylab import rcParams\n",
    "rcParams['figure.figsize'] = 15, 6\n"
   ]
  },
  {
   "cell_type": "code",
   "execution_count": 3,
   "id": "13427e6d",
   "metadata": {},
   "outputs": [
    {
     "data": {
      "text/html": [
       "<div>\n",
       "<style scoped>\n",
       "    .dataframe tbody tr th:only-of-type {\n",
       "        vertical-align: middle;\n",
       "    }\n",
       "\n",
       "    .dataframe tbody tr th {\n",
       "        vertical-align: top;\n",
       "    }\n",
       "\n",
       "    .dataframe thead th {\n",
       "        text-align: right;\n",
       "    }\n",
       "</style>\n",
       "<table border=\"1\" class=\"dataframe\">\n",
       "  <thead>\n",
       "    <tr style=\"text-align: right;\">\n",
       "      <th></th>\n",
       "      <th>date</th>\n",
       "      <th>symbol</th>\n",
       "      <th>open</th>\n",
       "      <th>close</th>\n",
       "      <th>low</th>\n",
       "      <th>high</th>\n",
       "      <th>volume</th>\n",
       "    </tr>\n",
       "  </thead>\n",
       "  <tbody>\n",
       "    <tr>\n",
       "      <th>0</th>\n",
       "      <td>2016-01-05 00:00:00</td>\n",
       "      <td>WLTW</td>\n",
       "      <td>123.430000</td>\n",
       "      <td>125.839996</td>\n",
       "      <td>122.309998</td>\n",
       "      <td>126.250000</td>\n",
       "      <td>2163600.0</td>\n",
       "    </tr>\n",
       "    <tr>\n",
       "      <th>1</th>\n",
       "      <td>2016-01-06 00:00:00</td>\n",
       "      <td>WLTW</td>\n",
       "      <td>125.239998</td>\n",
       "      <td>119.980003</td>\n",
       "      <td>119.940002</td>\n",
       "      <td>125.540001</td>\n",
       "      <td>2386400.0</td>\n",
       "    </tr>\n",
       "    <tr>\n",
       "      <th>2</th>\n",
       "      <td>2016-01-07 00:00:00</td>\n",
       "      <td>WLTW</td>\n",
       "      <td>116.379997</td>\n",
       "      <td>114.949997</td>\n",
       "      <td>114.930000</td>\n",
       "      <td>119.739998</td>\n",
       "      <td>2489500.0</td>\n",
       "    </tr>\n",
       "    <tr>\n",
       "      <th>3</th>\n",
       "      <td>2016-01-08 00:00:00</td>\n",
       "      <td>WLTW</td>\n",
       "      <td>115.480003</td>\n",
       "      <td>116.620003</td>\n",
       "      <td>113.500000</td>\n",
       "      <td>117.440002</td>\n",
       "      <td>2006300.0</td>\n",
       "    </tr>\n",
       "    <tr>\n",
       "      <th>4</th>\n",
       "      <td>2016-01-11 00:00:00</td>\n",
       "      <td>WLTW</td>\n",
       "      <td>117.010002</td>\n",
       "      <td>114.970001</td>\n",
       "      <td>114.089996</td>\n",
       "      <td>117.330002</td>\n",
       "      <td>1408600.0</td>\n",
       "    </tr>\n",
       "    <tr>\n",
       "      <th>...</th>\n",
       "      <td>...</td>\n",
       "      <td>...</td>\n",
       "      <td>...</td>\n",
       "      <td>...</td>\n",
       "      <td>...</td>\n",
       "      <td>...</td>\n",
       "      <td>...</td>\n",
       "    </tr>\n",
       "    <tr>\n",
       "      <th>851259</th>\n",
       "      <td>2016-12-30</td>\n",
       "      <td>ZBH</td>\n",
       "      <td>103.309998</td>\n",
       "      <td>103.199997</td>\n",
       "      <td>102.849998</td>\n",
       "      <td>103.930000</td>\n",
       "      <td>973800.0</td>\n",
       "    </tr>\n",
       "    <tr>\n",
       "      <th>851260</th>\n",
       "      <td>2016-12-30</td>\n",
       "      <td>ZION</td>\n",
       "      <td>43.070000</td>\n",
       "      <td>43.040001</td>\n",
       "      <td>42.689999</td>\n",
       "      <td>43.310001</td>\n",
       "      <td>1938100.0</td>\n",
       "    </tr>\n",
       "    <tr>\n",
       "      <th>851261</th>\n",
       "      <td>2016-12-30</td>\n",
       "      <td>ZTS</td>\n",
       "      <td>53.639999</td>\n",
       "      <td>53.529999</td>\n",
       "      <td>53.270000</td>\n",
       "      <td>53.740002</td>\n",
       "      <td>1701200.0</td>\n",
       "    </tr>\n",
       "    <tr>\n",
       "      <th>851262</th>\n",
       "      <td>2016-12-30 00:00:00</td>\n",
       "      <td>AIV</td>\n",
       "      <td>44.730000</td>\n",
       "      <td>45.450001</td>\n",
       "      <td>44.410000</td>\n",
       "      <td>45.590000</td>\n",
       "      <td>1380900.0</td>\n",
       "    </tr>\n",
       "    <tr>\n",
       "      <th>851263</th>\n",
       "      <td>2016-12-30 00:00:00</td>\n",
       "      <td>FTV</td>\n",
       "      <td>54.200001</td>\n",
       "      <td>53.630001</td>\n",
       "      <td>53.389999</td>\n",
       "      <td>54.480000</td>\n",
       "      <td>705100.0</td>\n",
       "    </tr>\n",
       "  </tbody>\n",
       "</table>\n",
       "<p>851264 rows × 7 columns</p>\n",
       "</div>"
      ],
      "text/plain": [
       "                       date symbol        open       close         low  \\\n",
       "0       2016-01-05 00:00:00   WLTW  123.430000  125.839996  122.309998   \n",
       "1       2016-01-06 00:00:00   WLTW  125.239998  119.980003  119.940002   \n",
       "2       2016-01-07 00:00:00   WLTW  116.379997  114.949997  114.930000   \n",
       "3       2016-01-08 00:00:00   WLTW  115.480003  116.620003  113.500000   \n",
       "4       2016-01-11 00:00:00   WLTW  117.010002  114.970001  114.089996   \n",
       "...                     ...    ...         ...         ...         ...   \n",
       "851259           2016-12-30    ZBH  103.309998  103.199997  102.849998   \n",
       "851260           2016-12-30   ZION   43.070000   43.040001   42.689999   \n",
       "851261           2016-12-30    ZTS   53.639999   53.529999   53.270000   \n",
       "851262  2016-12-30 00:00:00    AIV   44.730000   45.450001   44.410000   \n",
       "851263  2016-12-30 00:00:00    FTV   54.200001   53.630001   53.389999   \n",
       "\n",
       "              high     volume  \n",
       "0       126.250000  2163600.0  \n",
       "1       125.540001  2386400.0  \n",
       "2       119.739998  2489500.0  \n",
       "3       117.440002  2006300.0  \n",
       "4       117.330002  1408600.0  \n",
       "...            ...        ...  \n",
       "851259  103.930000   973800.0  \n",
       "851260   43.310001  1938100.0  \n",
       "851261   53.740002  1701200.0  \n",
       "851262   45.590000  1380900.0  \n",
       "851263   54.480000   705100.0  \n",
       "\n",
       "[851264 rows x 7 columns]"
      ]
     },
     "metadata": {},
     "output_type": "display_data"
    }
   ],
   "source": [
    "df =pd.read_csv(\"C:\\\\Users\\\\Srinu Jaddu\\\\OneDrive\\\\Desktop\\\\DATASETS\\\\prices.csv\", header=0)\n",
    "display (df)"
   ]
  },
  {
   "cell_type": "code",
   "execution_count": 4,
   "id": "53628e28",
   "metadata": {},
   "outputs": [
    {
     "name": "stdout",
     "output_type": "stream",
     "text": [
      "(851264, 7)\n"
     ]
    }
   ],
   "source": [
    "print(df.shape)"
   ]
  },
  {
   "cell_type": "code",
   "execution_count": 5,
   "id": "1502b168",
   "metadata": {},
   "outputs": [
    {
     "name": "stdout",
     "output_type": "stream",
     "text": [
      "Index(['date', 'symbol', 'open', 'close', 'low', 'high', 'volume'], dtype='object')\n"
     ]
    }
   ],
   "source": [
    "print(df.columns)\n"
   ]
  },
  {
   "cell_type": "code",
   "execution_count": 6,
   "id": "a470b025",
   "metadata": {},
   "outputs": [
    {
     "data": {
      "text/plain": [
       "KSU     1762\n",
       "NOC     1762\n",
       "ORCL    1762\n",
       "OMC     1762\n",
       "OKE     1762\n",
       "        ... \n",
       "KHC      378\n",
       "HPE      304\n",
       "CSRA     284\n",
       "WLTW     251\n",
       "FTV      126\n",
       "Name: symbol, Length: 501, dtype: int64"
      ]
     },
     "execution_count": 6,
     "metadata": {},
     "output_type": "execute_result"
    }
   ],
   "source": [
    "df.symbol.value_counts()"
   ]
  },
  {
   "cell_type": "code",
   "execution_count": 7,
   "id": "35d00086",
   "metadata": {},
   "outputs": [
    {
     "data": {
      "text/plain": [
       "array(['WLTW', 'A', 'AAL', 'AAP', 'AAPL', 'ABC', 'ABT', 'ACN', 'ADBE',\n",
       "       'ADI', 'ADM', 'ADP', 'ADS', 'ADSK', 'AEE', 'AEP', 'AES', 'AET',\n",
       "       'AFL', 'AGN', 'AIG', 'AIZ', 'AJG', 'AKAM', 'ALB', 'ALK', 'ALL',\n",
       "       'ALXN', 'AMAT', 'AME', 'AMG', 'AMGN', 'AMP', 'AMT', 'AMZN', 'AN',\n",
       "       'ANTM', 'AON', 'APA', 'APC', 'APD', 'APH', 'ARNC', 'ATVI', 'AVB',\n",
       "       'AVGO', 'AVY', 'AWK', 'AXP', 'AYI', 'AZO', 'BA', 'BAC', 'BAX',\n",
       "       'BBBY', 'BBT', 'BBY', 'BCR', 'BDX', 'BEN', 'BHI', 'BIIB', 'BK',\n",
       "       'BLK', 'BLL', 'BMY', 'BSX', 'BWA', 'BXP', 'C', 'CA', 'CAG', 'CAH',\n",
       "       'CAT', 'CB', 'CBG', 'CBS', 'CCI', 'CCL', 'CELG', 'CERN', 'CF',\n",
       "       'CHD', 'CHK', 'CHRW', 'CI', 'CINF', 'CL', 'CLX', 'CMA', 'CMCSA',\n",
       "       'CME', 'CMG', 'CMI', 'CMS', 'CNC', 'CNP', 'COF', 'COG', 'COH',\n",
       "       'COL', 'COO', 'COP', 'COST', 'CPB', 'CRM', 'CSCO', 'CSX', 'CTAS',\n",
       "       'CTL', 'CTSH', 'CTXS', 'CVS', 'CVX', 'CXO', 'D', 'DAL', 'DD', 'DE',\n",
       "       'DFS', 'DG', 'DGX', 'DHI', 'DHR', 'DIS', 'DISCA', 'DISCK', 'DLR',\n",
       "       'DLTR', 'DNB', 'DOV', 'DOW', 'DPS', 'DRI', 'DTE', 'DUK', 'DVA',\n",
       "       'DVN', 'EA', 'EBAY', 'ECL', 'ED', 'EFX', 'EIX', 'EL', 'EMN', 'EMR',\n",
       "       'ENDP', 'EOG', 'EQIX', 'EQR', 'EQT', 'ES', 'ESRX', 'ESS', 'ETFC',\n",
       "       'ETN', 'ETR', 'EW', 'EXC', 'EXPD', 'EXPE', 'EXR', 'F', 'FAST',\n",
       "       'FCX', 'FDX', 'FE', 'FFIV', 'FIS', 'FISV', 'FITB', 'FL', 'FLIR',\n",
       "       'FLR', 'FLS', 'FMC', 'FOX', 'FOXA', 'FRT', 'FSLR', 'FTI', 'FTR',\n",
       "       'GD', 'GE', 'GGP', 'GILD', 'GIS', 'GLW', 'GOOG', 'GOOGL', 'GPC',\n",
       "       'GPN', 'GPS', 'GRMN', 'GS', 'GT', 'GWW', 'HAL', 'HAR', 'HAS',\n",
       "       'HBAN', 'HBI', 'HCN', 'HCP', 'HD', 'HES', 'HIG', 'HOG', 'HOLX',\n",
       "       'HON', 'HP', 'HPQ', 'HRB', 'HRL', 'HRS', 'HSIC', 'HST', 'HSY',\n",
       "       'HUM', 'IBM', 'ICE', 'IDXX', 'IFF', 'ILMN', 'INTC', 'INTU', 'IP',\n",
       "       'IPG', 'IR', 'IRM', 'ISRG', 'ITW', 'IVZ', 'JBHT', 'JCI', 'JEC',\n",
       "       'JNJ', 'JNPR', 'JPM', 'JWN', 'K', 'KEY', 'KIM', 'KLAC', 'KMB',\n",
       "       'KMX', 'KO', 'KR', 'KSS', 'KSU', 'L', 'LB', 'LEG', 'LEN', 'LH',\n",
       "       'LKQ', 'LLL', 'LLTC', 'LLY', 'LMT', 'LNC', 'LNT', 'LOW', 'LRCX',\n",
       "       'LUK', 'LUV', 'LVLT', 'M', 'MA', 'MAA', 'MAC', 'MAR', 'MAS', 'MAT',\n",
       "       'MCD', 'MCHP', 'MCK', 'MCO', 'MDLZ', 'MDT', 'MET', 'MHK', 'MJN',\n",
       "       'MKC', 'MLM', 'MMC', 'MMM', 'MNST', 'MO', 'MON', 'MOS', 'MRK',\n",
       "       'MRO', 'MSFT', 'MSI', 'MTB', 'MTD', 'MU', 'MUR', 'MYL', 'NBL',\n",
       "       'NDAQ', 'NEE', 'NEM', 'NFLX', 'NFX', 'NI', 'NKE', 'NOC', 'NOV',\n",
       "       'NRG', 'NSC', 'NTAP', 'NTRS', 'NUE', 'NVDA', 'NWL', 'O', 'OKE',\n",
       "       'OMC', 'ORCL', 'ORLY', 'OXY', 'PAYX', 'PBCT', 'PBI', 'PCAR', 'PCG',\n",
       "       'PCLN', 'PDCO', 'PEG', 'PEP', 'PFE', 'PFG', 'PG', 'PGR', 'PH',\n",
       "       'PHM', 'PKI', 'PLD', 'PM', 'PNC', 'PNR', 'PNW', 'PPG', 'PPL',\n",
       "       'PRGO', 'PRU', 'PSA', 'PVH', 'PWR', 'PX', 'PXD', 'QCOM', 'R',\n",
       "       'RAI', 'RCL', 'REGN', 'RF', 'RHI', 'RHT', 'RIG', 'RL', 'ROK',\n",
       "       'ROP', 'ROST', 'RRC', 'RSG', 'RTN', 'SBUX', 'SCG', 'SCHW', 'SE',\n",
       "       'SEE', 'SHW', 'SIG', 'SJM', 'SLB', 'SLG', 'SNA', 'SNI', 'SO',\n",
       "       'SPG', 'SPGI', 'SPLS', 'SRCL', 'SRE', 'STI', 'STT', 'STX', 'STZ',\n",
       "       'SWK', 'SWKS', 'SWN', 'SYK', 'SYMC', 'SYY', 'T', 'TAP', 'TDC',\n",
       "       'TEL', 'TGNA', 'TGT', 'TIF', 'TJX', 'TMK', 'TMO', 'TROW', 'TRV',\n",
       "       'TSCO', 'TSN', 'TSO', 'TSS', 'TWX', 'TXN', 'TXT', 'UAA', 'UAL',\n",
       "       'UDR', 'UHS', 'ULTA', 'UNH', 'UNM', 'UNP', 'UPS', 'URBN', 'URI',\n",
       "       'USB', 'UTX', 'V', 'VAR', 'VFC', 'VIAB', 'VLO', 'VMC', 'VNO',\n",
       "       'VRSK', 'VRSN', 'VRTX', 'VTR', 'VZ', 'WAT', 'WBA', 'WDC', 'WEC',\n",
       "       'WFC', 'WFM', 'WHR', 'WM', 'WMB', 'WMT', 'WU', 'WY', 'WYN', 'WYNN',\n",
       "       'XEC', 'XEL', 'XL', 'XLNX', 'XOM', 'XRAY', 'XRX', 'YHOO', 'YUM',\n",
       "       'ZBH', 'ZION', 'AIV', 'CHTR', 'LYB', 'GM', 'ABBV', 'DLPH', 'FB',\n",
       "       'FBHS', 'HCA', 'KMI', 'KORS', 'MPC', 'NLSN', 'PSX', 'TDG', 'TRIP',\n",
       "       'XYL', 'ZTS', 'COTY', 'MNK', 'NWS', 'NWSA', 'EVHC', 'ALLE', 'CFG',\n",
       "       'NAVI', 'QRVO', 'SYF', 'WRK', 'KHC', 'PYPL', 'HPE', 'CSRA', 'FTV'],\n",
       "      dtype=object)"
      ]
     },
     "execution_count": 7,
     "metadata": {},
     "output_type": "execute_result"
    }
   ],
   "source": [
    "df.symbol.unique()"
   ]
  },
  {
   "cell_type": "code",
   "execution_count": 8,
   "id": "89eeaea8",
   "metadata": {},
   "outputs": [
    {
     "data": {
      "text/plain": [
       "(501,)"
      ]
     },
     "metadata": {},
     "output_type": "display_data"
    }
   ],
   "source": [
    "display(df.symbol.unique().shape)"
   ]
  },
  {
   "cell_type": "code",
   "execution_count": 9,
   "id": "66f8d8b6",
   "metadata": {},
   "outputs": [
    {
     "data": {
      "text/plain": [
       "array(['WLTW', 'A', 'AAL', 'AAP', 'AAPL', 'ABC', 'ABT', 'ACN', 'ADBE',\n",
       "       'ADI', 'ADM', 'ADP', 'ADS', 'ADSK', 'AEE', 'AEP', 'AES', 'AET',\n",
       "       'AFL', 'AGN'], dtype=object)"
      ]
     },
     "execution_count": 9,
     "metadata": {},
     "output_type": "execute_result"
    }
   ],
   "source": [
    "df.symbol.unique()[0:20]\n"
   ]
  },
  {
   "cell_type": "code",
   "execution_count": 10,
   "id": "5205f91a",
   "metadata": {},
   "outputs": [
    {
     "name": "stdout",
     "output_type": "stream",
     "text": [
      "851264\n"
     ]
    }
   ],
   "source": [
    "print(len(df.symbol.values))"
   ]
  },
  {
   "cell_type": "code",
   "execution_count": 11,
   "id": "e0758e55",
   "metadata": {},
   "outputs": [
    {
     "name": "stdout",
     "output_type": "stream",
     "text": [
      "<class 'pandas.core.frame.DataFrame'>\n",
      "RangeIndex: 851264 entries, 0 to 851263\n",
      "Data columns (total 7 columns):\n",
      " #   Column  Non-Null Count   Dtype  \n",
      "---  ------  --------------   -----  \n",
      " 0   date    851264 non-null  object \n",
      " 1   symbol  851264 non-null  object \n",
      " 2   open    851264 non-null  float64\n",
      " 3   close   851264 non-null  float64\n",
      " 4   low     851264 non-null  float64\n",
      " 5   high    851264 non-null  float64\n",
      " 6   volume  851264 non-null  float64\n",
      "dtypes: float64(5), object(2)\n",
      "memory usage: 45.5+ MB\n"
     ]
    }
   ],
   "source": [
    "df.info()"
   ]
  },
  {
   "cell_type": "code",
   "execution_count": 12,
   "id": "6d955dfa",
   "metadata": {},
   "outputs": [
    {
     "data": {
      "text/html": [
       "<div>\n",
       "<style scoped>\n",
       "    .dataframe tbody tr th:only-of-type {\n",
       "        vertical-align: middle;\n",
       "    }\n",
       "\n",
       "    .dataframe tbody tr th {\n",
       "        vertical-align: top;\n",
       "    }\n",
       "\n",
       "    .dataframe thead th {\n",
       "        text-align: right;\n",
       "    }\n",
       "</style>\n",
       "<table border=\"1\" class=\"dataframe\">\n",
       "  <thead>\n",
       "    <tr style=\"text-align: right;\">\n",
       "      <th></th>\n",
       "      <th>open</th>\n",
       "      <th>close</th>\n",
       "      <th>low</th>\n",
       "      <th>high</th>\n",
       "      <th>volume</th>\n",
       "    </tr>\n",
       "  </thead>\n",
       "  <tbody>\n",
       "    <tr>\n",
       "      <th>count</th>\n",
       "      <td>851264.000000</td>\n",
       "      <td>851264.000000</td>\n",
       "      <td>851264.000000</td>\n",
       "      <td>851264.000000</td>\n",
       "      <td>8.512640e+05</td>\n",
       "    </tr>\n",
       "    <tr>\n",
       "      <th>mean</th>\n",
       "      <td>70.836986</td>\n",
       "      <td>70.857109</td>\n",
       "      <td>70.118414</td>\n",
       "      <td>71.543476</td>\n",
       "      <td>5.415113e+06</td>\n",
       "    </tr>\n",
       "    <tr>\n",
       "      <th>std</th>\n",
       "      <td>83.695876</td>\n",
       "      <td>83.689686</td>\n",
       "      <td>82.877294</td>\n",
       "      <td>84.465504</td>\n",
       "      <td>1.249468e+07</td>\n",
       "    </tr>\n",
       "    <tr>\n",
       "      <th>min</th>\n",
       "      <td>0.850000</td>\n",
       "      <td>0.860000</td>\n",
       "      <td>0.830000</td>\n",
       "      <td>0.880000</td>\n",
       "      <td>0.000000e+00</td>\n",
       "    </tr>\n",
       "    <tr>\n",
       "      <th>25%</th>\n",
       "      <td>33.840000</td>\n",
       "      <td>33.849998</td>\n",
       "      <td>33.480000</td>\n",
       "      <td>34.189999</td>\n",
       "      <td>1.221500e+06</td>\n",
       "    </tr>\n",
       "    <tr>\n",
       "      <th>50%</th>\n",
       "      <td>52.770000</td>\n",
       "      <td>52.799999</td>\n",
       "      <td>52.230000</td>\n",
       "      <td>53.310001</td>\n",
       "      <td>2.476250e+06</td>\n",
       "    </tr>\n",
       "    <tr>\n",
       "      <th>75%</th>\n",
       "      <td>79.879997</td>\n",
       "      <td>79.889999</td>\n",
       "      <td>79.110001</td>\n",
       "      <td>80.610001</td>\n",
       "      <td>5.222500e+06</td>\n",
       "    </tr>\n",
       "    <tr>\n",
       "      <th>max</th>\n",
       "      <td>1584.439941</td>\n",
       "      <td>1578.130005</td>\n",
       "      <td>1549.939941</td>\n",
       "      <td>1600.930054</td>\n",
       "      <td>8.596434e+08</td>\n",
       "    </tr>\n",
       "  </tbody>\n",
       "</table>\n",
       "</div>"
      ],
      "text/plain": [
       "                open          close            low           high  \\\n",
       "count  851264.000000  851264.000000  851264.000000  851264.000000   \n",
       "mean       70.836986      70.857109      70.118414      71.543476   \n",
       "std        83.695876      83.689686      82.877294      84.465504   \n",
       "min         0.850000       0.860000       0.830000       0.880000   \n",
       "25%        33.840000      33.849998      33.480000      34.189999   \n",
       "50%        52.770000      52.799999      52.230000      53.310001   \n",
       "75%        79.879997      79.889999      79.110001      80.610001   \n",
       "max      1584.439941    1578.130005    1549.939941    1600.930054   \n",
       "\n",
       "             volume  \n",
       "count  8.512640e+05  \n",
       "mean   5.415113e+06  \n",
       "std    1.249468e+07  \n",
       "min    0.000000e+00  \n",
       "25%    1.221500e+06  \n",
       "50%    2.476250e+06  \n",
       "75%    5.222500e+06  \n",
       "max    8.596434e+08  "
      ]
     },
     "execution_count": 12,
     "metadata": {},
     "output_type": "execute_result"
    }
   ],
   "source": [
    "df.describe()"
   ]
  },
  {
   "cell_type": "code",
   "execution_count": 13,
   "id": "aa373835",
   "metadata": {},
   "outputs": [
    {
     "data": {
      "text/plain": [
       "array(['2016-01-05 00:00:00', '2016-01-06 00:00:00',\n",
       "       '2016-01-07 00:00:00', ..., '2016-12-28', '2016-12-29',\n",
       "       '2016-12-30'], dtype=object)"
      ]
     },
     "execution_count": 13,
     "metadata": {},
     "output_type": "execute_result"
    }
   ],
   "source": [
    "df.date.unique()"
   ]
  },
  {
   "cell_type": "code",
   "execution_count": 14,
   "id": "e0f9603e",
   "metadata": {},
   "outputs": [
    {
     "data": {
      "text/html": [
       "<div>\n",
       "<style scoped>\n",
       "    .dataframe tbody tr th:only-of-type {\n",
       "        vertical-align: middle;\n",
       "    }\n",
       "\n",
       "    .dataframe tbody tr th {\n",
       "        vertical-align: top;\n",
       "    }\n",
       "\n",
       "    .dataframe thead th {\n",
       "        text-align: right;\n",
       "    }\n",
       "</style>\n",
       "<table border=\"1\" class=\"dataframe\">\n",
       "  <thead>\n",
       "    <tr style=\"text-align: right;\">\n",
       "      <th></th>\n",
       "      <th>0</th>\n",
       "    </tr>\n",
       "  </thead>\n",
       "  <tbody>\n",
       "    <tr>\n",
       "      <th>0</th>\n",
       "      <td>2016-01-05 00:00:00</td>\n",
       "    </tr>\n",
       "    <tr>\n",
       "      <th>1</th>\n",
       "      <td>2016-01-06 00:00:00</td>\n",
       "    </tr>\n",
       "    <tr>\n",
       "      <th>2</th>\n",
       "      <td>2016-01-07 00:00:00</td>\n",
       "    </tr>\n",
       "    <tr>\n",
       "      <th>3</th>\n",
       "      <td>2016-01-08 00:00:00</td>\n",
       "    </tr>\n",
       "    <tr>\n",
       "      <th>4</th>\n",
       "      <td>2016-01-11 00:00:00</td>\n",
       "    </tr>\n",
       "    <tr>\n",
       "      <th>...</th>\n",
       "      <td>...</td>\n",
       "    </tr>\n",
       "    <tr>\n",
       "      <th>3519</th>\n",
       "      <td>2016-12-23</td>\n",
       "    </tr>\n",
       "    <tr>\n",
       "      <th>3520</th>\n",
       "      <td>2016-12-27</td>\n",
       "    </tr>\n",
       "    <tr>\n",
       "      <th>3521</th>\n",
       "      <td>2016-12-28</td>\n",
       "    </tr>\n",
       "    <tr>\n",
       "      <th>3522</th>\n",
       "      <td>2016-12-29</td>\n",
       "    </tr>\n",
       "    <tr>\n",
       "      <th>3523</th>\n",
       "      <td>2016-12-30</td>\n",
       "    </tr>\n",
       "  </tbody>\n",
       "</table>\n",
       "<p>3524 rows × 1 columns</p>\n",
       "</div>"
      ],
      "text/plain": [
       "                        0\n",
       "0     2016-01-05 00:00:00\n",
       "1     2016-01-06 00:00:00\n",
       "2     2016-01-07 00:00:00\n",
       "3     2016-01-08 00:00:00\n",
       "4     2016-01-11 00:00:00\n",
       "...                   ...\n",
       "3519           2016-12-23\n",
       "3520           2016-12-27\n",
       "3521           2016-12-28\n",
       "3522           2016-12-29\n",
       "3523           2016-12-30\n",
       "\n",
       "[3524 rows x 1 columns]"
      ]
     },
     "execution_count": 14,
     "metadata": {},
     "output_type": "execute_result"
    }
   ],
   "source": [
    "pd.DataFrame(df.date.unique())"
   ]
  },
  {
   "cell_type": "code",
   "execution_count": 15,
   "id": "154ab13a",
   "metadata": {},
   "outputs": [
    {
     "data": {
      "text/plain": [
       "0"
      ]
     },
     "execution_count": 15,
     "metadata": {},
     "output_type": "execute_result"
    }
   ],
   "source": [
    "df.duplicated().sum()\n"
   ]
  },
  {
   "cell_type": "code",
   "execution_count": 18,
   "id": "769913cc",
   "metadata": {},
   "outputs": [
    {
     "data": {
      "text/html": [
       "<div>\n",
       "<style scoped>\n",
       "    .dataframe tbody tr th:only-of-type {\n",
       "        vertical-align: middle;\n",
       "    }\n",
       "\n",
       "    .dataframe tbody tr th {\n",
       "        vertical-align: top;\n",
       "    }\n",
       "\n",
       "    .dataframe thead th {\n",
       "        text-align: right;\n",
       "    }\n",
       "</style>\n",
       "<table border=\"1\" class=\"dataframe\">\n",
       "  <thead>\n",
       "    <tr style=\"text-align: right;\">\n",
       "      <th></th>\n",
       "      <th>Ticker symbol</th>\n",
       "      <th>Security</th>\n",
       "      <th>SEC filings</th>\n",
       "      <th>GICS Sector</th>\n",
       "      <th>GICS Sub Industry</th>\n",
       "      <th>Address of Headquarters</th>\n",
       "      <th>Date first added</th>\n",
       "      <th>CIK</th>\n",
       "    </tr>\n",
       "  </thead>\n",
       "  <tbody>\n",
       "    <tr>\n",
       "      <th>0</th>\n",
       "      <td>MMM</td>\n",
       "      <td>3M Company</td>\n",
       "      <td>reports</td>\n",
       "      <td>Industrials</td>\n",
       "      <td>Industrial Conglomerates</td>\n",
       "      <td>St. Paul, Minnesota</td>\n",
       "      <td>NaN</td>\n",
       "      <td>66740</td>\n",
       "    </tr>\n",
       "    <tr>\n",
       "      <th>1</th>\n",
       "      <td>ABT</td>\n",
       "      <td>Abbott Laboratories</td>\n",
       "      <td>reports</td>\n",
       "      <td>Health Care</td>\n",
       "      <td>Health Care Equipment</td>\n",
       "      <td>North Chicago, Illinois</td>\n",
       "      <td>31-03-1964</td>\n",
       "      <td>1800</td>\n",
       "    </tr>\n",
       "    <tr>\n",
       "      <th>2</th>\n",
       "      <td>ABBV</td>\n",
       "      <td>AbbVie</td>\n",
       "      <td>reports</td>\n",
       "      <td>Health Care</td>\n",
       "      <td>Pharmaceuticals</td>\n",
       "      <td>North Chicago, Illinois</td>\n",
       "      <td>31-12-2012</td>\n",
       "      <td>1551152</td>\n",
       "    </tr>\n",
       "    <tr>\n",
       "      <th>3</th>\n",
       "      <td>ACN</td>\n",
       "      <td>Accenture plc</td>\n",
       "      <td>reports</td>\n",
       "      <td>Information Technology</td>\n",
       "      <td>IT Consulting &amp; Other Services</td>\n",
       "      <td>Dublin, Ireland</td>\n",
       "      <td>06-07-2011</td>\n",
       "      <td>1467373</td>\n",
       "    </tr>\n",
       "    <tr>\n",
       "      <th>4</th>\n",
       "      <td>ATVI</td>\n",
       "      <td>Activision Blizzard</td>\n",
       "      <td>reports</td>\n",
       "      <td>Information Technology</td>\n",
       "      <td>Home Entertainment Software</td>\n",
       "      <td>Santa Monica, California</td>\n",
       "      <td>31-08-2015</td>\n",
       "      <td>718877</td>\n",
       "    </tr>\n",
       "    <tr>\n",
       "      <th>...</th>\n",
       "      <td>...</td>\n",
       "      <td>...</td>\n",
       "      <td>...</td>\n",
       "      <td>...</td>\n",
       "      <td>...</td>\n",
       "      <td>...</td>\n",
       "      <td>...</td>\n",
       "      <td>...</td>\n",
       "    </tr>\n",
       "    <tr>\n",
       "      <th>500</th>\n",
       "      <td>YHOO</td>\n",
       "      <td>Yahoo Inc.</td>\n",
       "      <td>reports</td>\n",
       "      <td>Information Technology</td>\n",
       "      <td>Internet Software &amp; Services</td>\n",
       "      <td>Sunnyvale, California</td>\n",
       "      <td>NaN</td>\n",
       "      <td>1011006</td>\n",
       "    </tr>\n",
       "    <tr>\n",
       "      <th>501</th>\n",
       "      <td>YUM</td>\n",
       "      <td>Yum! Brands Inc</td>\n",
       "      <td>reports</td>\n",
       "      <td>Consumer Discretionary</td>\n",
       "      <td>Restaurants</td>\n",
       "      <td>Louisville, Kentucky</td>\n",
       "      <td>06-10-1997</td>\n",
       "      <td>1041061</td>\n",
       "    </tr>\n",
       "    <tr>\n",
       "      <th>502</th>\n",
       "      <td>ZBH</td>\n",
       "      <td>Zimmer Biomet Holdings</td>\n",
       "      <td>reports</td>\n",
       "      <td>Health Care</td>\n",
       "      <td>Health Care Equipment</td>\n",
       "      <td>Warsaw, Indiana</td>\n",
       "      <td>NaN</td>\n",
       "      <td>1136869</td>\n",
       "    </tr>\n",
       "    <tr>\n",
       "      <th>503</th>\n",
       "      <td>ZION</td>\n",
       "      <td>Zions Bancorp</td>\n",
       "      <td>reports</td>\n",
       "      <td>Financials</td>\n",
       "      <td>Regional Banks</td>\n",
       "      <td>Salt Lake City, Utah</td>\n",
       "      <td>NaN</td>\n",
       "      <td>109380</td>\n",
       "    </tr>\n",
       "    <tr>\n",
       "      <th>504</th>\n",
       "      <td>ZTS</td>\n",
       "      <td>Zoetis</td>\n",
       "      <td>reports</td>\n",
       "      <td>Health Care</td>\n",
       "      <td>Pharmaceuticals</td>\n",
       "      <td>Florham Park, New Jersey</td>\n",
       "      <td>21-06-2013</td>\n",
       "      <td>1555280</td>\n",
       "    </tr>\n",
       "  </tbody>\n",
       "</table>\n",
       "<p>505 rows × 8 columns</p>\n",
       "</div>"
      ],
      "text/plain": [
       "    Ticker symbol                Security SEC filings             GICS Sector  \\\n",
       "0             MMM              3M Company     reports             Industrials   \n",
       "1             ABT     Abbott Laboratories     reports             Health Care   \n",
       "2            ABBV                  AbbVie     reports             Health Care   \n",
       "3             ACN           Accenture plc     reports  Information Technology   \n",
       "4            ATVI     Activision Blizzard     reports  Information Technology   \n",
       "..            ...                     ...         ...                     ...   \n",
       "500          YHOO              Yahoo Inc.     reports  Information Technology   \n",
       "501           YUM         Yum! Brands Inc     reports  Consumer Discretionary   \n",
       "502           ZBH  Zimmer Biomet Holdings     reports             Health Care   \n",
       "503          ZION           Zions Bancorp     reports              Financials   \n",
       "504           ZTS                  Zoetis     reports             Health Care   \n",
       "\n",
       "                  GICS Sub Industry   Address of Headquarters  \\\n",
       "0          Industrial Conglomerates       St. Paul, Minnesota   \n",
       "1             Health Care Equipment   North Chicago, Illinois   \n",
       "2                   Pharmaceuticals   North Chicago, Illinois   \n",
       "3    IT Consulting & Other Services           Dublin, Ireland   \n",
       "4       Home Entertainment Software  Santa Monica, California   \n",
       "..                              ...                       ...   \n",
       "500    Internet Software & Services     Sunnyvale, California   \n",
       "501                     Restaurants      Louisville, Kentucky   \n",
       "502           Health Care Equipment           Warsaw, Indiana   \n",
       "503                  Regional Banks      Salt Lake City, Utah   \n",
       "504                 Pharmaceuticals  Florham Park, New Jersey   \n",
       "\n",
       "    Date first added      CIK  \n",
       "0                NaN    66740  \n",
       "1         31-03-1964     1800  \n",
       "2         31-12-2012  1551152  \n",
       "3         06-07-2011  1467373  \n",
       "4         31-08-2015   718877  \n",
       "..               ...      ...  \n",
       "500              NaN  1011006  \n",
       "501       06-10-1997  1041061  \n",
       "502              NaN  1136869  \n",
       "503              NaN   109380  \n",
       "504       21-06-2013  1555280  \n",
       "\n",
       "[505 rows x 8 columns]"
      ]
     },
     "execution_count": 18,
     "metadata": {},
     "output_type": "execute_result"
    }
   ],
   "source": [
    "comp_info = pd.read_csv(\"C:\\\\Users\\\\Srinu Jaddu\\\\OneDrive\\\\Desktop\\\\DATASETS\\\\securities.csv\")\n",
    "comp_info\n"
   ]
  },
  {
   "cell_type": "code",
   "execution_count": 19,
   "id": "8d761550",
   "metadata": {},
   "outputs": [
    {
     "data": {
      "text/plain": [
       "505"
      ]
     },
     "execution_count": 19,
     "metadata": {},
     "output_type": "execute_result"
    }
   ],
   "source": [
    "comp_info[\"Ticker symbol\"].nunique()"
   ]
  },
  {
   "cell_type": "code",
   "execution_count": 20,
   "id": "0bf8ad19",
   "metadata": {},
   "outputs": [
    {
     "name": "stdout",
     "output_type": "stream",
     "text": [
      "<class 'pandas.core.frame.DataFrame'>\n",
      "RangeIndex: 505 entries, 0 to 504\n",
      "Data columns (total 8 columns):\n",
      " #   Column                   Non-Null Count  Dtype \n",
      "---  ------                   --------------  ----- \n",
      " 0   Ticker symbol            505 non-null    object\n",
      " 1   Security                 505 non-null    object\n",
      " 2   SEC filings              505 non-null    object\n",
      " 3   GICS Sector              505 non-null    object\n",
      " 4   GICS Sub Industry        505 non-null    object\n",
      " 5   Address of Headquarters  505 non-null    object\n",
      " 6   Date first added         307 non-null    object\n",
      " 7   CIK                      505 non-null    int64 \n",
      "dtypes: int64(1), object(7)\n",
      "memory usage: 31.7+ KB\n"
     ]
    }
   ],
   "source": [
    "comp_info.info()"
   ]
  },
  {
   "cell_type": "code",
   "execution_count": 21,
   "id": "7cbf028c",
   "metadata": {},
   "outputs": [
    {
     "data": {
      "text/plain": [
       "Ticker symbol                0\n",
       "Security                     0\n",
       "SEC filings                  0\n",
       "GICS Sector                  0\n",
       "GICS Sub Industry            0\n",
       "Address of Headquarters      0\n",
       "Date first added           198\n",
       "CIK                          0\n",
       "dtype: int64"
      ]
     },
     "execution_count": 21,
     "metadata": {},
     "output_type": "execute_result"
    }
   ],
   "source": [
    "comp_info.isnull().sum()"
   ]
  },
  {
   "cell_type": "code",
   "execution_count": 22,
   "id": "789ac676",
   "metadata": {},
   "outputs": [
    {
     "data": {
      "text/html": [
       "<div>\n",
       "<style scoped>\n",
       "    .dataframe tbody tr th:only-of-type {\n",
       "        vertical-align: middle;\n",
       "    }\n",
       "\n",
       "    .dataframe tbody tr th {\n",
       "        vertical-align: top;\n",
       "    }\n",
       "\n",
       "    .dataframe thead th {\n",
       "        text-align: right;\n",
       "    }\n",
       "</style>\n",
       "<table border=\"1\" class=\"dataframe\">\n",
       "  <thead>\n",
       "    <tr style=\"text-align: right;\">\n",
       "      <th></th>\n",
       "      <th>CIK</th>\n",
       "    </tr>\n",
       "  </thead>\n",
       "  <tbody>\n",
       "    <tr>\n",
       "      <th>count</th>\n",
       "      <td>5.050000e+02</td>\n",
       "    </tr>\n",
       "    <tr>\n",
       "      <th>mean</th>\n",
       "      <td>7.074490e+05</td>\n",
       "    </tr>\n",
       "    <tr>\n",
       "      <th>std</th>\n",
       "      <td>5.144375e+05</td>\n",
       "    </tr>\n",
       "    <tr>\n",
       "      <th>min</th>\n",
       "      <td>1.800000e+03</td>\n",
       "    </tr>\n",
       "    <tr>\n",
       "      <th>25%</th>\n",
       "      <td>8.631200e+04</td>\n",
       "    </tr>\n",
       "    <tr>\n",
       "      <th>50%</th>\n",
       "      <td>8.310010e+05</td>\n",
       "    </tr>\n",
       "    <tr>\n",
       "      <th>75%</th>\n",
       "      <td>1.075531e+06</td>\n",
       "    </tr>\n",
       "    <tr>\n",
       "      <th>max</th>\n",
       "      <td>1.659166e+06</td>\n",
       "    </tr>\n",
       "  </tbody>\n",
       "</table>\n",
       "</div>"
      ],
      "text/plain": [
       "                CIK\n",
       "count  5.050000e+02\n",
       "mean   7.074490e+05\n",
       "std    5.144375e+05\n",
       "min    1.800000e+03\n",
       "25%    8.631200e+04\n",
       "50%    8.310010e+05\n",
       "75%    1.075531e+06\n",
       "max    1.659166e+06"
      ]
     },
     "execution_count": 22,
     "metadata": {},
     "output_type": "execute_result"
    }
   ],
   "source": [
    "comp_info.describe()"
   ]
  },
  {
   "cell_type": "code",
   "execution_count": 23,
   "id": "c0969291",
   "metadata": {},
   "outputs": [
    {
     "data": {
      "text/html": [
       "<div>\n",
       "<style scoped>\n",
       "    .dataframe tbody tr th:only-of-type {\n",
       "        vertical-align: middle;\n",
       "    }\n",
       "\n",
       "    .dataframe tbody tr th {\n",
       "        vertical-align: top;\n",
       "    }\n",
       "\n",
       "    .dataframe thead th {\n",
       "        text-align: right;\n",
       "    }\n",
       "</style>\n",
       "<table border=\"1\" class=\"dataframe\">\n",
       "  <thead>\n",
       "    <tr style=\"text-align: right;\">\n",
       "      <th></th>\n",
       "      <th>Ticker symbol</th>\n",
       "      <th>Security</th>\n",
       "      <th>SEC filings</th>\n",
       "      <th>GICS Sector</th>\n",
       "      <th>GICS Sub Industry</th>\n",
       "      <th>Address of Headquarters</th>\n",
       "      <th>Date first added</th>\n",
       "      <th>CIK</th>\n",
       "    </tr>\n",
       "  </thead>\n",
       "  <tbody>\n",
       "    <tr>\n",
       "      <th>181</th>\n",
       "      <td>FB</td>\n",
       "      <td>Facebook</td>\n",
       "      <td>reports</td>\n",
       "      <td>Information Technology</td>\n",
       "      <td>Internet Software &amp; Services</td>\n",
       "      <td>Menlo Park, California</td>\n",
       "      <td>23-12-2013</td>\n",
       "      <td>1326801</td>\n",
       "    </tr>\n",
       "  </tbody>\n",
       "</table>\n",
       "</div>"
      ],
      "text/plain": [
       "    Ticker symbol  Security SEC filings             GICS Sector  \\\n",
       "181            FB  Facebook     reports  Information Technology   \n",
       "\n",
       "                GICS Sub Industry Address of Headquarters Date first added  \\\n",
       "181  Internet Software & Services  Menlo Park, California       23-12-2013   \n",
       "\n",
       "         CIK  \n",
       "181  1326801  "
      ]
     },
     "execution_count": 23,
     "metadata": {},
     "output_type": "execute_result"
    }
   ],
   "source": [
    "comp_info.loc[comp_info.Security.str.startswith('Face') , :]"
   ]
  },
  {
   "cell_type": "code",
   "execution_count": 24,
   "id": "ca3cc0fd",
   "metadata": {},
   "outputs": [
    {
     "data": {
      "text/html": [
       "<div>\n",
       "<style scoped>\n",
       "    .dataframe tbody tr th:only-of-type {\n",
       "        vertical-align: middle;\n",
       "    }\n",
       "\n",
       "    .dataframe tbody tr th {\n",
       "        vertical-align: top;\n",
       "    }\n",
       "\n",
       "    .dataframe thead th {\n",
       "        text-align: right;\n",
       "    }\n",
       "</style>\n",
       "<table border=\"1\" class=\"dataframe\">\n",
       "  <thead>\n",
       "    <tr style=\"text-align: right;\">\n",
       "      <th></th>\n",
       "      <th>Ticker symbol</th>\n",
       "      <th>Security</th>\n",
       "      <th>SEC filings</th>\n",
       "      <th>GICS Sector</th>\n",
       "      <th>GICS Sub Industry</th>\n",
       "      <th>Address of Headquarters</th>\n",
       "      <th>Date first added</th>\n",
       "      <th>CIK</th>\n",
       "    </tr>\n",
       "  </thead>\n",
       "  <tbody>\n",
       "    <tr>\n",
       "      <th>3</th>\n",
       "      <td>ACN</td>\n",
       "      <td>Accenture plc</td>\n",
       "      <td>reports</td>\n",
       "      <td>Information Technology</td>\n",
       "      <td>IT Consulting &amp; Other Services</td>\n",
       "      <td>Dublin, Ireland</td>\n",
       "      <td>06-07-2011</td>\n",
       "      <td>1467373</td>\n",
       "    </tr>\n",
       "  </tbody>\n",
       "</table>\n",
       "</div>"
      ],
      "text/plain": [
       "  Ticker symbol       Security SEC filings             GICS Sector  \\\n",
       "3           ACN  Accenture plc     reports  Information Technology   \n",
       "\n",
       "                GICS Sub Industry Address of Headquarters Date first added  \\\n",
       "3  IT Consulting & Other Services         Dublin, Ireland       06-07-2011   \n",
       "\n",
       "       CIK  \n",
       "3  1467373  "
      ]
     },
     "execution_count": 24,
     "metadata": {},
     "output_type": "execute_result"
    }
   ],
   "source": [
    "comp_info.loc[comp_info.Security.str.startswith('Acc') , :]"
   ]
  },
  {
   "cell_type": "code",
   "execution_count": 25,
   "id": "2aab0240",
   "metadata": {},
   "outputs": [
    {
     "name": "stdout",
     "output_type": "stream",
     "text": [
      "6      ADBE\n",
      "181      FB\n",
      "212      GS\n",
      "306    MSFT\n",
      "496     XRX\n",
      "500    YHOO\n",
      "Name: Ticker symbol, dtype: object\n"
     ]
    }
   ],
   "source": [
    "comp_plot = comp_info.loc[(comp_info[\"Security\"] == 'Yahoo Inc.') | (comp_info[\"Security\"] == 'Xerox Corp.') | (comp_info[\"Security\"] == 'Adobe Systems Inc')\n",
    "              | (comp_info[\"Security\"] == 'Microsoft Corp.') | (comp_info[\"Security\"] == 'Adobe Systems Inc') \n",
    "              | (comp_info[\"Security\"] == 'Facebook') | (comp_info[\"Security\"] == 'Goldman Sachs Group') , [\"Ticker symbol\"] ][\"Ticker symbol\"] \n",
    "print(comp_plot)\n"
   ]
  },
  {
   "cell_type": "code",
   "execution_count": 26,
   "id": "070ca5cc",
   "metadata": {},
   "outputs": [
    {
     "name": "stdout",
     "output_type": "stream",
     "text": [
      "ADBE\n",
      "FB\n",
      "GS\n",
      "MSFT\n",
      "XRX\n",
      "YHOO\n"
     ]
    }
   ],
   "source": [
    "for i in comp_plot:\n",
    "    print (i)\n"
   ]
  },
  {
   "cell_type": "code",
   "execution_count": 30,
   "id": "1e3230b3",
   "metadata": {},
   "outputs": [],
   "source": [
    "def plotter(code):\n",
    "    # Function used to create graphs for 6 companies \n",
    "    global closing_stock ,opening_stock\n",
    "    #creating plot of all 6 company for opening and closing stock  total 12 graphs\n",
    "    # Below statement create 2X2 empty chart \n",
    "    f, axs = plt.subplots(2,2,figsize=(15,8))\n",
    "    # total 12 graphs\n",
    "    # creating plot opening prize of particular company\n",
    "    plt.subplot(212)\n",
    "    #taking name of the company as code, get all records related to one company\n",
    "    company = df[df['symbol']==code]\n",
    "    #taking the values of one company and taking its open column values to 1D array\n",
    "    company = company.open.values.astype('float32')\n",
    "    #reshaping the open stock value from 1D  to 2D .\n",
    "    company = company.reshape(-1, 1)\n",
    "    # putting the value of company in opening_stock \n",
    "    opening_stock = company\n",
    "    plt.grid(True)# enalbling the grid in graph\n",
    "    plt.xlabel('Time') # setting X axis as time\n",
    "    # setting Y axis as company name + open stock prices\n",
    "    plt.ylabel(code + \" open stock prices\") \n",
    "    plt.title('prices Vs Time') # setting title\n",
    "    plt.plot(company , 'g') # calling the graph with green graph line\n",
    "    \n",
    "    # creating plot closing prize of particular company\n",
    "    plt.subplot(211)\n",
    "    #taking name of the company as code\n",
    "    company_close = df[df['symbol']==code]\n",
    "    #taking the values of one company and taking its close column values\n",
    "    company_close = company_close.close.values.astype('float32')\n",
    "    #reshaping the open column value in 1D and calling it closing_stock\n",
    "   # -1 for unknown dimension\n",
    "    company_close = company_close.reshape(-1, 1)\n",
    "    # putting company_close value in closing_stock \n",
    "    closing_stock = company_close\n",
    "    # plotting the data graph between \"Time\" and \"prices vs time\"\n",
    "    plt.xlabel('Time') # setting x axis as time\n",
    "    plt.ylabel(code + \" close stock prices\")# setting y axis as company name + open stock prices\n",
    "    plt.title('prices Vs Time') # setting title as price vs time\n",
    "    plt.grid(True) # enabling the grid in graph\n",
    "    plt.plot(company_close , 'b') #creating the data graph in blue graph line\n",
    "    plt.show() # calling the graph\n",
    "    for i in comp_plot:\n",
    "        plotter(i)\n",
    "\n",
    "\n",
    "\n"
   ]
  },
  {
   "cell_type": "code",
   "execution_count": 31,
   "id": "4228181a",
   "metadata": {},
   "outputs": [
    {
     "name": "stdout",
     "output_type": "stream",
     "text": [
      "[17.1      17.23     17.17     ... 38.73     38.639999 38.669998]\n"
     ]
    }
   ],
   "source": [
    "stocks= np.array (df[df.symbol.isin (['YHOO'])].close)\n",
    "print(stocks)\n"
   ]
  },
  {
   "cell_type": "code",
   "execution_count": 32,
   "id": "aeed7f2d",
   "metadata": {},
   "outputs": [
    {
     "data": {
      "text/plain": [
       "(1762,)"
      ]
     },
     "metadata": {},
     "output_type": "display_data"
    }
   ],
   "source": [
    "\n",
    "display (stocks.shape)\n"
   ]
  },
  {
   "cell_type": "code",
   "execution_count": 33,
   "id": "db47d62f",
   "metadata": {},
   "outputs": [
    {
     "name": "stdout",
     "output_type": "stream",
     "text": [
      "(1762, 1)\n",
      "[[17.1     ]\n",
      " [17.23    ]\n",
      " [17.17    ]\n",
      " ...\n",
      " [38.73    ]\n",
      " [38.639999]\n",
      " [38.669998]]\n"
     ]
    }
   ],
   "source": [
    "stocks = stocks.reshape(len(stocks) , 1)\n",
    "print (stocks.shape)\n",
    "print(stocks)\n"
   ]
  },
  {
   "cell_type": "code",
   "execution_count": 34,
   "id": "78bbbc17",
   "metadata": {},
   "outputs": [
    {
     "data": {
      "text/plain": [
       "array([[0.14559109],\n",
       "       [0.14874031],\n",
       "       [0.14728683],\n",
       "       ...,\n",
       "       [0.66957366],\n",
       "       [0.6673934 ],\n",
       "       [0.66812012]])"
      ]
     },
     "metadata": {},
     "output_type": "display_data"
    }
   ],
   "source": [
    "from sklearn.preprocessing import MinMaxScaler\n",
    "#scaling features between 0 and 1\n",
    "scaler = MinMaxScaler(feature_range=(0, 1)) \n",
    "stocks = scaler.fit_transform(stocks) \n",
    "display (stocks)\n"
   ]
  },
  {
   "cell_type": "code",
   "execution_count": 35,
   "id": "fc8a10fd",
   "metadata": {},
   "outputs": [
    {
     "name": "stdout",
     "output_type": "stream",
     "text": [
      "(1762, 1)\n",
      "1409\n",
      "353\n"
     ]
    }
   ],
   "source": [
    "print (stocks.shape) \n",
    "\n",
    "# 80 % Training record count   \n",
    "train = int(len(stocks) * 0.80)\n",
    "print (train)\n",
    "\n",
    "# 20 % record count    (Total – 80%)\n",
    "test = len(stocks) - train \n",
    "print (test)\n"
   ]
  },
  {
   "cell_type": "code",
   "execution_count": 38,
   "id": "01b8001e",
   "metadata": {},
   "outputs": [
    {
     "data": {
      "text/plain": [
       "(1409, 1)"
      ]
     },
     "metadata": {},
     "output_type": "display_data"
    },
    {
     "name": "stdout",
     "output_type": "stream",
     "text": [
      "[[0.14559109]\n",
      " [0.14874031]\n",
      " [0.14728683]\n",
      " ...\n",
      " [0.63372095]\n",
      " [0.61458332]\n",
      " [0.61967051]]\n"
     ]
    },
    {
     "data": {
      "text/plain": [
       "(353, 1)"
      ]
     },
     "metadata": {},
     "output_type": "display_data"
    },
    {
     "data": {
      "text/plain": [
       "array([[0.63129851],\n",
       "       [0.60416666],\n",
       "       [0.56686053],\n",
       "       [0.6017442 ],\n",
       "       [0.60925394],\n",
       "       [0.60586237],\n",
       "       [0.59593022],\n",
       "       [0.58381782],\n",
       "       [0.55741276],\n",
       "       [0.52906978],\n",
       "       [0.48982557],\n",
       "       [0.50024226],\n",
       "       [0.51913761],\n",
       "       [0.54748061],\n",
       "       [0.53415697],\n",
       "       [0.51235471],\n",
       "       [0.49685079],\n",
       "       [0.500969  ],\n",
       "       [0.51962213],\n",
       "       [0.49636629],\n",
       "       [0.47989342],\n",
       "       [0.4949128 ],\n",
       "       [0.48594962],\n",
       "       [0.49273257],\n",
       "       [0.46584303],\n",
       "       [0.48328492],\n",
       "       [0.49200583],\n",
       "       [0.48062017],\n",
       "       [0.47601745],\n",
       "       [0.48643412],\n",
       "       [0.46778102],\n",
       "       [0.45179265],\n",
       "       [0.44210272],\n",
       "       [0.43701549],\n",
       "       [0.39995156],\n",
       "       [0.41593993],\n",
       "       [0.43168606],\n",
       "       [0.43168606],\n",
       "       [0.47529068],\n",
       "       [0.47868218],\n",
       "       [0.48134689],\n",
       "       [0.50339151],\n",
       "       [0.51550386],\n",
       "       [0.51913761],\n",
       "       [0.52737407],\n",
       "       [0.51477714],\n",
       "       [0.50872094],\n",
       "       [0.54239342],\n",
       "       [0.53972867],\n",
       "       [0.54287792],\n",
       "       [0.52664735],\n",
       "       [0.4852229 ],\n",
       "       [0.49854652],\n",
       "       [0.53488369],\n",
       "       [0.54045549],\n",
       "       [0.56225774],\n",
       "       [0.58381782],\n",
       "       [0.58042635],\n",
       "       [0.59423449],\n",
       "       [0.58575583],\n",
       "       [0.57243221],\n",
       "       [0.58091087],\n",
       "       [0.58212208],\n",
       "       [0.55983531],\n",
       "       [0.54723839],\n",
       "       [0.55474812],\n",
       "       [0.53997097],\n",
       "       [0.53633722],\n",
       "       [0.5111434 ],\n",
       "       [0.5295543 ],\n",
       "       [0.52737407],\n",
       "       [0.53028102],\n",
       "       [0.52180236],\n",
       "       [0.53343027],\n",
       "       [0.53948647],\n",
       "       [0.5297965 ],\n",
       "       [0.53464149],\n",
       "       [0.529312  ],\n",
       "       [0.55038763],\n",
       "       [0.54796511],\n",
       "       [0.5949613 ],\n",
       "       [0.56322676],\n",
       "       [0.5770349 ],\n",
       "       [0.57146319],\n",
       "       [0.57558136],\n",
       "       [0.56468029],\n",
       "       [0.57025198],\n",
       "       [0.52858528],\n",
       "       [0.52083335],\n",
       "       [0.53149224],\n",
       "       [0.54966084],\n",
       "       [0.53633722],\n",
       "       [0.5295543 ],\n",
       "       [0.5300388 ],\n",
       "       [0.55959301],\n",
       "       [0.56589151],\n",
       "       [0.55765508],\n",
       "       [0.54530035],\n",
       "       [0.55595934],\n",
       "       [0.53972867],\n",
       "       [0.53706392],\n",
       "       [0.49200583],\n",
       "       [0.5113857 ],\n",
       "       [0.51041668],\n",
       "       [0.46196707],\n",
       "       [0.4733527 ],\n",
       "       [0.46220931],\n",
       "       [0.47480624],\n",
       "       [0.44452523],\n",
       "       [0.46584303],\n",
       "       [0.43725774],\n",
       "       [0.45179265],\n",
       "       [0.42853686],\n",
       "       [0.44137596],\n",
       "       [0.45203489],\n",
       "       [0.45276166],\n",
       "       [0.4576066 ],\n",
       "       [0.45058143],\n",
       "       [0.42781009],\n",
       "       [0.44622094],\n",
       "       [0.44767443],\n",
       "       [0.43531975],\n",
       "       [0.40188954],\n",
       "       [0.43750001],\n",
       "       [0.40891471],\n",
       "       [0.38662789],\n",
       "       [0.38105621],\n",
       "       [0.38783916],\n",
       "       [0.37960272],\n",
       "       [0.38638569],\n",
       "       [0.44064926],\n",
       "       [0.44282949],\n",
       "       [0.44404071],\n",
       "       [0.45906011],\n",
       "       [0.48643412],\n",
       "       [0.47432172],\n",
       "       [0.48110469],\n",
       "       [0.49103686],\n",
       "       [0.49127911],\n",
       "       [0.50145352],\n",
       "       [0.52592053],\n",
       "       [0.52858528],\n",
       "       [0.52785856],\n",
       "       [0.55159887],\n",
       "       [0.55402131],\n",
       "       [0.52906978],\n",
       "       [0.54312012],\n",
       "       [0.52640505],\n",
       "       [0.55038763],\n",
       "       [0.54481595],\n",
       "       [0.53706392],\n",
       "       [0.55523252],\n",
       "       [0.56177325],\n",
       "       [0.5833333 ],\n",
       "       [0.59060081],\n",
       "       [0.5891473 ],\n",
       "       [0.57437014],\n",
       "       [0.57582368],\n",
       "       [0.58478684],\n",
       "       [0.61119188],\n",
       "       [0.61700585],\n",
       "       [0.62306205],\n",
       "       [0.61506784],\n",
       "       [0.62814924],\n",
       "       [0.61337211],\n",
       "       [0.61942831],\n",
       "       [0.60755811],\n",
       "       [0.60513567],\n",
       "       [0.61506784],\n",
       "       [0.61942831],\n",
       "       [0.63517446],\n",
       "       [0.63178291],\n",
       "       [0.61579454],\n",
       "       [0.61603684],\n",
       "       [0.61143417],\n",
       "       [0.64801358],\n",
       "       [0.64389532],\n",
       "       [0.63929265],\n",
       "       [0.63323645],\n",
       "       [0.6303295 ],\n",
       "       [0.62645353],\n",
       "       [0.61773257],\n",
       "       [0.61797477],\n",
       "       [0.61627906],\n",
       "       [0.60368214],\n",
       "       [0.60343994],\n",
       "       [0.62621123],\n",
       "       [0.63323645],\n",
       "       [0.63202521],\n",
       "       [0.63832363],\n",
       "       [0.6366279 ],\n",
       "       [0.62839146],\n",
       "       [0.61506784],\n",
       "       [0.63929265],\n",
       "       [0.63420544],\n",
       "       [0.63347875],\n",
       "       [0.62814924],\n",
       "       [0.61555234],\n",
       "       [0.61942831],\n",
       "       [0.64050387],\n",
       "       [0.59350777],\n",
       "       [0.62185074],\n",
       "       [0.64752909],\n",
       "       [0.65043604],\n",
       "       [0.61918611],\n",
       "       [0.63129851],\n",
       "       [0.61797477],\n",
       "       [0.62936048],\n",
       "       [0.62112405],\n",
       "       [0.62693802],\n",
       "       [0.63614338],\n",
       "       [0.62354658],\n",
       "       [0.61482562],\n",
       "       [0.63735472],\n",
       "       [0.63541668],\n",
       "       [0.63711239],\n",
       "       [0.62621123],\n",
       "       [0.63468996],\n",
       "       [0.63735472],\n",
       "       [0.6363857 ],\n",
       "       [0.64656007],\n",
       "       [0.60925394],\n",
       "       [0.58454461],\n",
       "       [0.60440895],\n",
       "       [0.6242733 ],\n",
       "       [0.64123066],\n",
       "       [0.65164735],\n",
       "       [0.63977715],\n",
       "       [0.64001935],\n",
       "       [0.64026164],\n",
       "       [0.64559115],\n",
       "       [0.65092053],\n",
       "       [0.6492248 ],\n",
       "       [0.6431686 ],\n",
       "       [0.65092053],\n",
       "       [0.64510663],\n",
       "       [0.65067833],\n",
       "       [0.65600772],\n",
       "       [0.67369193],\n",
       "       [0.67248059],\n",
       "       [0.68531981],\n",
       "       [0.65964149],\n",
       "       [0.67030036],\n",
       "       [0.66787792],\n",
       "       [0.66448645],\n",
       "       [0.65649224],\n",
       "       [0.67126937],\n",
       "       [0.66569769],\n",
       "       [0.6613372 ],\n",
       "       [0.67417632],\n",
       "       [0.67587216],\n",
       "       [0.68192836],\n",
       "       [0.68192836],\n",
       "       [0.69864343],\n",
       "       [0.73110467],\n",
       "       [0.77156007],\n",
       "       [0.76501935],\n",
       "       [0.76065898],\n",
       "       [0.76574617],\n",
       "       [0.77059115],\n",
       "       [0.77349808],\n",
       "       [0.76138568],\n",
       "       [0.76332361],\n",
       "       [0.74660855],\n",
       "       [0.7495155 ],\n",
       "       [0.75532948],\n",
       "       [0.75508718],\n",
       "       [0.76283921],\n",
       "       [0.76695738],\n",
       "       [0.77131785],\n",
       "       [0.77979651],\n",
       "       [0.81443798],\n",
       "       [0.80571703],\n",
       "       [0.80595935],\n",
       "       [0.77107555],\n",
       "       [0.78415697],\n",
       "       [0.7739826 ],\n",
       "       [0.78415697],\n",
       "       [0.79699619],\n",
       "       [0.78924416],\n",
       "       [0.77761627],\n",
       "       [0.7679264 ],\n",
       "       [0.80062984],\n",
       "       [0.80087216],\n",
       "       [0.7681686 ],\n",
       "       [0.755814  ],\n",
       "       [0.78197674],\n",
       "       [0.78972868],\n",
       "       [0.76259692],\n",
       "       [0.77543602],\n",
       "       [0.77616283],\n",
       "       [0.77737405],\n",
       "       [0.79021317],\n",
       "       [0.78948645],\n",
       "       [0.77834307],\n",
       "       [0.79530036],\n",
       "       [0.76526165],\n",
       "       [0.75750973],\n",
       "       [0.73958333],\n",
       "       [0.73522286],\n",
       "       [0.74370159],\n",
       "       [0.74103684],\n",
       "       [0.76647289],\n",
       "       [0.75799423],\n",
       "       [0.75290695],\n",
       "       [0.76308141],\n",
       "       [0.7621124 ],\n",
       "       [0.75072681],\n",
       "       [0.74563953],\n",
       "       [0.7434593 ],\n",
       "       [0.73788759],\n",
       "       [0.73255821],\n",
       "       [0.71681203],\n",
       "       [0.70591087],\n",
       "       [0.70712209],\n",
       "       [0.72577519],\n",
       "       [0.72843994],\n",
       "       [0.72965116],\n",
       "       [0.70421513],\n",
       "       [0.71051353],\n",
       "       [0.68338178],\n",
       "       [0.70542635],\n",
       "       [0.72407947],\n",
       "       [0.73546516],\n",
       "       [0.72916666],\n",
       "       [0.72722872],\n",
       "       [0.72480617],\n",
       "       [0.72359495],\n",
       "       [0.72141472],\n",
       "       [0.73546516],\n",
       "       [0.73909881],\n",
       "       [0.72504847],\n",
       "       [0.69137601],\n",
       "       [0.7020349 ],\n",
       "       [0.70518415],\n",
       "       [0.69961244],\n",
       "       [0.71293606],\n",
       "       [0.73449614],\n",
       "       [0.74297478],\n",
       "       [0.73183139],\n",
       "       [0.73594965],\n",
       "       [0.72238374],\n",
       "       [0.66182172],\n",
       "       [0.66666671],\n",
       "       [0.66206392],\n",
       "       [0.67999033],\n",
       "       [0.67974813],\n",
       "       [0.66400195],\n",
       "       [0.66787792],\n",
       "       [0.67417632],\n",
       "       [0.66957366],\n",
       "       [0.6673934 ],\n",
       "       [0.66812012]])"
      ]
     },
     "metadata": {},
     "output_type": "display_data"
    }
   ],
   "source": [
    "# Training Data\n",
    "#divinding the values of stocks data to train from 0 to 1409 i.e 80% data\n",
    "train = stocks[0:train]\n",
    "display (train.shape)\n",
    "print(train)\n",
    "\n",
    "# Test Data\n",
    "#divinding the values of stocks data to test from train ending to stock data ending i.e rest 20% data\n",
    "test = stocks[len(train) : ]\n",
    "display(test.shape)\n",
    "display (test)\n",
    "\n"
   ]
  },
  {
   "cell_type": "code",
   "execution_count": 39,
   "id": "8e9bcefc",
   "metadata": {},
   "outputs": [],
   "source": [
    "def process_data(data , n_features):\n",
    "    dataX, dataY = [], [] # creating data for dataset and dividing inta X,Y\n",
    "    for i in range(len(data)-n_features):\n",
    "        # taking i range from total size- 3 \n",
    "        a = data[i:(i+n_features), 0]\n",
    "        # Here a is value of data from i to i+ n_features, ie two values and put it in dataX \n",
    "        dataX.append(a) #putting a in dataX\n",
    "        #here dataY takes the value of data of i + n_features\n",
    "        dataY.append(data[i + n_features, 0])\n",
    "        # putting i+ n_features in  dataY\n",
    "    return np.array(dataX), np.array(dataY)\n",
    "# returning dataX and dataY in array\n",
    "\n"
   ]
  },
  {
   "cell_type": "code",
   "execution_count": 41,
   "id": "34aaf506",
   "metadata": {},
   "outputs": [
    {
     "name": "stdout",
     "output_type": "stream",
     "text": [
      "(1407, 2) (1407,)\n"
     ]
    }
   ],
   "source": [
    "n_features = 2\n",
    "trainX, trainY = process_data(train, n_features)\n",
    "print(trainX.shape , trainY.shape)\n",
    "\n"
   ]
  },
  {
   "cell_type": "code",
   "execution_count": 42,
   "id": "951d049f",
   "metadata": {},
   "outputs": [
    {
     "name": "stdout",
     "output_type": "stream",
     "text": [
      "(351, 2) (351,)\n"
     ]
    }
   ],
   "source": [
    "testX, testY = process_data(test, n_features)\n",
    "print (testX.shape , testY.shape)\n"
   ]
  },
  {
   "cell_type": "code",
   "execution_count": 43,
   "id": "4cd7c482",
   "metadata": {},
   "outputs": [
    {
     "name": "stdout",
     "output_type": "stream",
     "text": [
      "(1760, 2) (1760,)\n"
     ]
    }
   ],
   "source": [
    "stocksX, stocksY = process_data(stocks, n_features)\n",
    "print (stocksX.shape , stocksY.shape)\n"
   ]
  },
  {
   "cell_type": "code",
   "execution_count": 45,
   "id": "f5364536",
   "metadata": {},
   "outputs": [
    {
     "data": {
      "text/plain": [
       "array([[0.14559109, 0.14874031],\n",
       "       [0.14874031, 0.14728683],\n",
       "       [0.14728683, 0.13590119],\n",
       "       [0.13590119, 0.13590119],\n",
       "       [0.13590119, 0.13687016],\n",
       "       [0.13687016, 0.13541667],\n",
       "       [0.13541667, 0.14074613],\n",
       "       [0.14074613, 0.14607561],\n",
       "       [0.14607561, 0.13880814],\n",
       "       [0.13880814, 0.13711241]])"
      ]
     },
     "metadata": {},
     "output_type": "display_data"
    }
   ],
   "source": [
    "display (trainX[:10])"
   ]
  },
  {
   "cell_type": "code",
   "execution_count": 46,
   "id": "2b25457d",
   "metadata": {},
   "outputs": [
    {
     "data": {
      "text/plain": [
       "array([0.14728683, 0.13590119, 0.13590119, 0.13687016, 0.13541667,\n",
       "       0.14074613, 0.14607561, 0.13880814, 0.13711241, 0.1281492 ])"
      ]
     },
     "metadata": {},
     "output_type": "display_data"
    }
   ],
   "source": [
    "display (trainY[:10])"
   ]
  },
  {
   "cell_type": "code",
   "execution_count": 47,
   "id": "4ca2dea4",
   "metadata": {},
   "outputs": [
    {
     "data": {
      "text/plain": [
       "(1407, 1, 2)"
      ]
     },
     "metadata": {},
     "output_type": "display_data"
    }
   ],
   "source": [
    "trainX = trainX.reshape(trainX.shape[0] , 1 ,trainX.shape[1])\n",
    "display (trainX.shape)"
   ]
  },
  {
   "cell_type": "code",
   "execution_count": 48,
   "id": "79ee786b",
   "metadata": {},
   "outputs": [
    {
     "data": {
      "text/plain": [
       "(351, 1, 2)"
      ]
     },
     "metadata": {},
     "output_type": "display_data"
    }
   ],
   "source": [
    "testX = testX.reshape(testX.shape[0] , 1 ,testX.shape[1])\n",
    "display (testX.shape)\n"
   ]
  },
  {
   "cell_type": "code",
   "execution_count": 49,
   "id": "923f8a44",
   "metadata": {},
   "outputs": [
    {
     "data": {
      "text/plain": [
       "(1760, 1, 2)"
      ]
     },
     "metadata": {},
     "output_type": "display_data"
    }
   ],
   "source": [
    "stocksX= stocksX.reshape(stocksX.shape[0] , 1 ,stocksX.shape[1])\n",
    "display (stocksX.shape)\n",
    "\n"
   ]
  },
  {
   "cell_type": "code",
   "execution_count": null,
   "id": "2f118bb5",
   "metadata": {},
   "outputs": [],
   "source": []
  }
 ],
 "metadata": {
  "kernelspec": {
   "display_name": "Python 3 (ipykernel)",
   "language": "python",
   "name": "python3"
  },
  "language_info": {
   "codemirror_mode": {
    "name": "ipython",
    "version": 3
   },
   "file_extension": ".py",
   "mimetype": "text/x-python",
   "name": "python",
   "nbconvert_exporter": "python",
   "pygments_lexer": "ipython3",
   "version": "3.9.13"
  }
 },
 "nbformat": 4,
 "nbformat_minor": 5
}
